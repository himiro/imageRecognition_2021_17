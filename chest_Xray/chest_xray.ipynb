{
 "cells": [
  {
   "cell_type": "code",
   "execution_count": 9,
   "metadata": {},
   "outputs": [
    {
     "name": "stdout",
     "output_type": "stream",
     "text": [
      "total 36\r\n",
      "drwxrwxr-x 5 wkyubi wkyubi  4096 mars  16 15:08 .\r\n",
      "drwxrwxr-x 5 wkyubi wkyubi  4096 avril 20 14:40 ..\r\n",
      "-rw-rw-r-- 1 wkyubi wkyubi 12292 mars  16 15:08 .DS_Store\r\n",
      "drwxrwxr-x 4 wkyubi wkyubi  4096 mars  16 15:08 test\r\n",
      "drwxrwxr-x 4 wkyubi wkyubi  4096 mars  16 15:08 train\r\n",
      "drwxrwxr-x 4 wkyubi wkyubi  4096 mars  16 15:08 val\r\n"
     ]
    }
   ],
   "source": [
    "!pip3 install -q --upgrade ipython keras\n",
    "!pip3 install -q --upgrade ipykernel pillow\n",
    "!pip3 install -q --upgrade imgaug\n",
    "!ls -la chest_Xray"
   ]
  },
  {
   "cell_type": "code",
   "execution_count": 10,
   "metadata": {},
   "outputs": [],
   "source": [
    "import os\n",
    "import numpy as np\n",
    "import pandas\n",
    "import seaborn\n",
    "import matplotlib.pyplot as plt\n",
    "from PIL import Image\n",
    "from sklearn.ensemble import RandomForestClassifier\n",
    "import cv2\n",
    "import pandas as pd\n",
    "from sklearn.model_selection import cross_val_score, cross_val_predict\n",
    "from sklearn.metrics import roc_auc_score, roc_curve, confusion_matrix\n"
   ]
  },
  {
   "cell_type": "code",
   "execution_count": 11,
   "metadata": {},
   "outputs": [],
   "source": [
    "TEST_PATH = \"./chest_Xray/test\"\n",
    "TRAIN_PATH = \"./chest_Xray/train\"\n",
    "VAL_PATH = \"./chest_Xray/val\""
   ]
  },
  {
   "cell_type": "markdown",
   "metadata": {},
   "source": [
    "# Creation of Train, Val and Test datasets"
   ]
  },
  {
   "cell_type": "code",
   "execution_count": 12,
   "metadata": {},
   "outputs": [
    {
     "name": "stdout",
     "output_type": "stream",
     "text": [
      ".DS_Store failed\n",
      ".DS_Store failed\n",
      "1194\n",
      "[[0.23529412 0.23529412 0.23529412 ... 0.11764706 0.11764706 0.11764706]\n",
      " [0.23529412 0.23529412 0.23529412 ... 0.23529412 0.23529412 0.23529412]\n",
      " [0.16862746 0.16862746 0.16862746 ... 0.11764706 0.11764706 0.11764706]\n",
      " ...\n",
      " [0.         0.         0.         ... 0.         0.         0.        ]\n",
      " [0.         0.         0.         ... 0.         0.         0.        ]\n",
      " [0.         0.         0.         ... 0.01568628 0.01568628 0.01568628]]\n"
     ]
    }
   ],
   "source": [
    "train_X = []\n",
    "train_Y = []\n",
    "for elem in os.listdir(TRAIN_PATH):\n",
    "    is_pneumonia = 0.\n",
    "    if elem == \"PNEUMONIA\":\n",
    "        is_pneumonia = 1.\n",
    "    try:\n",
    "        for filename in os.listdir(TRAIN_PATH + \"/\" + elem):\n",
    "            try:\n",
    "                path = TRAIN_PATH + \"/\" + elem + \"/\"\n",
    "                img = cv2.imread(str(path+filename))\n",
    "                img = cv2.resize(img, (224,224))\n",
    "                # Data augmentation :\n",
    "                # Flip\n",
    "                map_x = np.zeros((img.shape[0], img.shape[1]), dtype=np.float32)\n",
    "                map_y = np.zeros((img.shape[0], img.shape[1]), dtype=np.float32)\n",
    "                flipped_image = cv2.remap(img, map_x, map_y, cv2.INTER_LINEAR)\n",
    "                # noisy_image = random_noise(img)\n",
    "                # Blur\n",
    "                blur_image = cv2.GaussianBlur(img, (11,11),0)\n",
    "                # rotated_image = rotate(img, angle=45)\n",
    "                img_data = [img, flipped_image, blur_image]\n",
    "                for image in img_data:\n",
    "                    if image.shape[2] ==1:\n",
    "                        image = np.dstack([image, image, image])\n",
    "                    image = cv2.cvtColor(image, cv2.COLOR_BGR2RGB)\n",
    "                    image = image.astype(np.float32)/255.\n",
    "                    train_X.append(image)\n",
    "                    train_Y.append(is_pneumonia)\n",
    "#                 if img.shape[2] ==1:\n",
    "#                     img = np.dstack([img, img, img])\n",
    "#                 img = cv2.cvtColor(img, cv2.COLOR_BGR2RGB)\n",
    "#                 img = img.astype(np.float32)/255.\n",
    "#                 train_X.append(img)\n",
    "#                 train_Y.append(is_pneumonia)\n",
    "            except:\n",
    "                print(filename + \" failed\")\n",
    "                pass\n",
    "    except:\n",
    "        pass\n",
    "train_X = np.array(train_X).reshape(-1, 224*224*3)\n",
    "train_Y = np.array(train_Y)\n",
    "print(len(train_X))\n",
    "print(train_X)"
   ]
  },
  {
   "cell_type": "code",
   "execution_count": 13,
   "metadata": {},
   "outputs": [
    {
     "name": "stdout",
     "output_type": "stream",
     "text": [
      ".DS_Store failed\n",
      ".DS_Store failed\n"
     ]
    }
   ],
   "source": [
    "val_X = []\n",
    "val_Y = []\n",
    "for elem in os.listdir(VAL_PATH):\n",
    "    is_pneumonia = 0.\n",
    "    if elem == \"PNEUMONIA\":\n",
    "        is_pneumonia = 1.\n",
    "    try:\n",
    "        for filename in os.listdir(VAL_PATH + \"/\" + elem):\n",
    "            try:\n",
    "                path = VAL_PATH + \"/\" + elem + \"/\"\n",
    "                img = cv2.imread(str(path+filename))\n",
    "                img = cv2.resize(img, (224,224))\n",
    "                img = img.astype(np.float32)/255.\n",
    "                val_X.append(img)\n",
    "                val_Y.append(is_pneumonia)\n",
    "            except:\n",
    "                print(filename + \" failed\")\n",
    "                pass\n",
    "    except:\n",
    "        pass\n",
    "val_X = np.array(val_X).reshape(-1, 224*224*3)\n",
    "val_Y = np.array(val_Y)"
   ]
  },
  {
   "cell_type": "code",
   "execution_count": 14,
   "metadata": {},
   "outputs": [],
   "source": [
    "test_X = []\n",
    "test_Y = []\n",
    "for elem in os.listdir(VAL_PATH):\n",
    "    is_pneumonia = 0.\n",
    "    if elem == \"PNEUMONIA\":\n",
    "        is_pneumonia = 1.\n",
    "    try:\n",
    "        for filename in os.listdir(TEST_PATH + \"/\" + elem):\n",
    "            try:\n",
    "                path = TEST_PATH + \"/\" + elem + \"/\"\n",
    "                img = cv2.imread(str(path+filename))\n",
    "                img = cv2.resize(img, (224,224))\n",
    "                img = img.astype(np.float32)/255.\n",
    "                test_X.append(img)\n",
    "                test_Y.append(is_pneumonia)\n",
    "            except:\n",
    "                print(filename + \" failed\")\n",
    "                pass\n",
    "    except:\n",
    "        pass\n",
    "test_X = np.array(test_X).reshape(-1, 224*224*3)\n",
    "test_Y = np.array(test_Y)"
   ]
  },
  {
   "cell_type": "markdown",
   "metadata": {},
   "source": [
    "# Data exploration"
   ]
  },
  {
   "cell_type": "code",
   "execution_count": 15,
   "metadata": {},
   "outputs": [
    {
     "data": {
      "text/plain": [
       "<matplotlib.axes._subplots.AxesSubplot at 0x7faaf4427290>"
      ]
     },
     "execution_count": 15,
     "metadata": {},
     "output_type": "execute_result"
    },
    {
     "data": {
      "image/png": "[encoded data removed]",
      "text/plain": [
       "<Figure size 1080x432 with 1 Axes>"
      ]
     },
     "metadata": {
      "needs_background": "light"
     },
     "output_type": "display_data"
    }
   ],
   "source": [
    "# #QUELQUES POUMONS\n",
    "# print(val_Y)\n",
    "# plt.figure(figsize=(10,6))\n",
    "# plt.title(\"Poumons malades / Poumons sains\")\n",
    "# arrayX = []\n",
    "# for y in range(0, 40):\n",
    "#     if test_Y[y] == 1:\n",
    "#         seaborn.kdeplot(data=test_X[y], color=\"r\", shade=True)\n",
    "# # sea1.kdeplot(data=test_Y, shade=True),\n",
    "\n",
    "# seaborn.distplot(a=val_Y, kde=False)\n",
    "# plt.figure(figsize=(10,6))\n",
    "# plt.title(\"Poumons malades / Poumons sains (train)\")\n",
    "\n",
    "# seaborn.distplot(a=train_Y, kde=False)\n",
    "plt.figure(figsize=(15,6))\n",
    "plt.title(\"Poumons malades / Poumons sains (test)\")\n",
    "\n",
    "seaborn.distplot(a=test_Y, kde=True)\n",
    "\n",
    "# ______________________________________\n",
    "# plt.figure(figsize=(10,6))\n",
    "# plt.title(\"Poumons sains\")\n",
    "\n",
    "#for y in range(300, 340):\n",
    "#    if test_Y[y] == 0:\n",
    "#        seaborn.kdeplot(data=test_X[y], color=\"b\", shade=True)\n",
    "\n",
    "        \n",
    "# TOUS LES POUMONS\n",
    "#plt.figure(figsize=(10,6))\n",
    "#plt.title(\"Poumons sains\")\n",
    "#for y in test_Y:\n",
    "#    if y == 1:\n",
    "#        for x in test_X:\n",
    "#            seaborn.kdeplot(data=x, color=\"r\", shade=True)\n",
    "#plt.figure(figsize=(10,6))\n",
    "#plt.title(\"Poumons malades\")\n",
    "#for y in test_Y:\n",
    "#    if y == 0:\n",
    "#        for x in test_X:\n",
    "#            seaborn.kdeplot(data=x, color=\"b\", shade=True)\n",
    "#seaborn.kdeplot(data=test_Y, shade=True)"
   ]
  },
  {
   "cell_type": "markdown",
   "metadata": {},
   "source": [
    "# Creation and training step of the model"
   ]
  },
  {
   "cell_type": "code",
   "execution_count": 16,
   "metadata": {},
   "outputs": [
    {
     "name": "stderr",
     "output_type": "stream",
     "text": [
      "/home/wkyubi/.local/lib/python2.7/site-packages/sklearn/model_selection/_split.py:2052: FutureWarning: You should specify a value for 'cv' instead of relying on the default value. The default value will change from 3 to 5 in version 0.22.\n",
      "  warnings.warn(CV_WARNING, FutureWarning)\n"
     ]
    },
    {
     "name": "stdout",
     "output_type": "stream",
     "text": [
      "0.16666666666666666 / 0.13608276348795434\n"
     ]
    }
   ],
   "source": [
    "model = RandomForestClassifier(random_state = 1, n_estimators=100)\n",
    "model.fit(train_X, train_Y)\n",
    "scores = cross_val_score(model, val_X, val_Y)\n",
    "print(str(scores.mean()) + \" / \" + str(scores.std()))"
   ]
  },
  {
   "cell_type": "markdown",
   "metadata": {},
   "source": [
    "# Validation step"
   ]
  },
  {
   "cell_type": "code",
   "execution_count": 17,
   "metadata": {},
   "outputs": [
    {
     "name": "stdout",
     "output_type": "stream",
     "text": [
      "0.485 / 0.4997749493522059\n"
     ]
    }
   ],
   "source": [
    "scores_preds = cross_val_predict(model, test_X, test_Y)\n",
    "scores_probas = model.predict_proba(test_X)[:, 1]\n",
    "print(str(scores_preds.mean()) + \" / \" + str(scores_preds.std()))"
   ]
  },
  {
   "cell_type": "markdown",
   "metadata": {},
   "source": [
    "# Test step : Final model accuracy"
   ]
  },
  {
   "cell_type": "code",
   "execution_count": 18,
   "metadata": {},
   "outputs": [
    {
     "name": "stdout",
     "output_type": "stream",
     "text": [
      "0.905\n"
     ]
    }
   ],
   "source": [
    "accuracy = roc_auc_score(test_Y, scores_preds)\n",
    "print(accuracy)"
   ]
  },
  {
   "cell_type": "markdown",
   "metadata": {},
   "source": [
    "## Predictions and model metrics plots"
   ]
  },
  {
   "cell_type": "code",
   "execution_count": 19,
   "metadata": {},
   "outputs": [
    {
     "data": {
      "text/plain": [
       "Text(0.5,1,'ROC Curves')"
      ]
     },
     "execution_count": 19,
     "metadata": {},
     "output_type": "execute_result"
    },
    {
     "data": {
      "image/png": "[encoded data removed]",
      "text/plain": [
       "<Figure size 576x432 with 1 Axes>"
      ]
     },
     "metadata": {
      "needs_background": "light"
     },
     "output_type": "display_data"
    }
   ],
   "source": [
    "false_positive, true_positive, _ = roc_curve(test_Y, scores_probas)\n",
    "plt.figure(figsize = (8, 6))\n",
    "plt.rcParams['font.size'] = 16\n",
    "plt.plot(false_positive, true_positive, 'r', label = 'model')\n",
    "plt.legend()\n",
    "plt.xlabel('False Positive Rate')\n",
    "plt.ylabel('True Positive Rate')\n",
    "plt.title('ROC Curves')"
   ]
  },
  {
   "cell_type": "code",
   "execution_count": 20,
   "metadata": {},
   "outputs": [
    {
     "data": {
      "image/png": "[encoded data removed]",
      "text/plain": [
       "<Figure size 720x720 with 2 Axes>"
      ]
     },
     "metadata": {
      "needs_background": "light"
     },
     "output_type": "display_data"
    }
   ],
   "source": [
    "cm = confusion_matrix(test_Y, scores_preds)\n",
    "classes = ['Normal', 'Pneumonia']\n",
    "title = 'predictions HeatMap'\n",
    "plt.figure(figsize = (10, 10))\n",
    "\n",
    "plt.imshow(cm, cmap=plt.cm.Blues)\n",
    "plt.colorbar()\n",
    "plt.xticks(np.arange(len(classes)), classes)\n",
    "plt.yticks(np.arange(len(classes)), classes)\n",
    "for i in range(0, len(classes)):\n",
    "    for j in range(0, len(classes)):\n",
    "        text = plt.text(i, j, cm[i, j], ha=\"center\", va=\"center\")\n",
    "plt.ylabel('True label', size = 18)\n",
    "plt.xlabel('Predicted label', size = 18)\n",
    "plt.tight_layout()\n",
    "plt.show()"
   ]
  }
 ],
 "metadata": {
  "kernelspec": {
   "display_name": "Python 2",
   "language": "python",
   "name": "python2"
  },
  "language_info": {
   "codemirror_mode": {
    "name": "ipython",
    "version": 2
   },
   "file_extension": ".py",
   "mimetype": "text/x-python",
   "name": "python",
   "nbconvert_exporter": "python",
   "pygments_lexer": "ipython2",
   "version": "2.7.15+"
  }
 },
 "nbformat": 4,
 "nbformat_minor": 2
}
