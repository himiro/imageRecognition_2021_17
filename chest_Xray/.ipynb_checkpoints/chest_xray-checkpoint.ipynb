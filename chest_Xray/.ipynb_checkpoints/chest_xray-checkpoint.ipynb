{
 "cells": [
  {
   "cell_type": "code",
   "execution_count": 207,
   "metadata": {},
   "outputs": [
    {
     "name": "stdout",
     "output_type": "stream",
     "text": [
      "\u001b[31m  Could not find a version that satisfies the requirement PIL (from versions: )\u001b[0m\n",
      "\u001b[31mNo matching distribution found for PIL\u001b[0m\n",
      "total 36\n",
      "drwxr-xr-x 5 mathou mathou  4096 mars  16 14:37 .\n",
      "drwxr-xr-x 5 mathou mathou  4096 mars  30 14:16 ..\n",
      "-rw-r--r-- 1 mathou mathou 12292 mars  16 14:37 .DS_Store\n",
      "drwxr-xr-x 4 mathou mathou  4096 mars  16 14:37 test\n",
      "drwxr-xr-x 4 mathou mathou  4096 mars  16 14:37 train\n",
      "drwxr-xr-x 4 mathou mathou  4096 mars  16 14:37 val\n"
     ]
    }
   ],
   "source": [
    "!pip3 install -q --upgrade ipython keras tensorflow\n",
    "!pip3 install -q --upgrade ipykernel PIL\n",
    "!ls -la chest_Xray"
   ]
  },
  {
   "cell_type": "code",
   "execution_count": 208,
   "metadata": {},
   "outputs": [],
   "source": [
    "import os\n",
    "import numpy as np\n",
    "import pandas\n",
    "import seaborn\n",
    "import matplotlib.pyplot as plt\n",
    "from PIL import Image\n",
    "from sklearn.ensemble import RandomForestClassifier\n",
    "import cv2\n",
    "import matplotlib.pyplot as plt\n",
    "import pandas as pd\n",
    "from sklearn.model_selection import cross_val_score, cross_val_predict\n",
    "from sklearn.metrics import roc_auc_score, roc_curve, confusion_matrix"
   ]
  },
  {
   "cell_type": "code",
   "execution_count": 209,
   "metadata": {},
   "outputs": [],
   "source": [
    "TEST_PATH = \"./chest_Xray/test\"\n",
    "TRAIN_PATH = \"./chest_Xray/train\"\n",
    "VAL_PATH = \"./chest_Xray/val\""
   ]
  },
  {
   "cell_type": "code",
   "execution_count": 210,
   "metadata": {},
   "outputs": [
    {
     "name": "stdout",
     "output_type": "stream",
     "text": [
      ".DS_Store failed\n",
      ".DS_Store failed\n"
     ]
    }
   ],
   "source": [
    "train_X = []\n",
    "train_Y = []\n",
    "for elem in os.listdir(TRAIN_PATH):\n",
    "    is_pneumonia = 0.\n",
    "    if elem == \"PNEUMONIA\":\n",
    "        is_pneumonia = 1.\n",
    "    try:\n",
    "        for filename in os.listdir(TRAIN_PATH + \"/\" + elem):\n",
    "            try:\n",
    "                path = TRAIN_PATH + \"/\" + elem + \"/\"\n",
    "                img = cv2.imread(str(path+filename))\n",
    "                img = cv2.resize(img, (224,224))\n",
    "                if img.shape[2] ==1:\n",
    "                    img = np.dstack([img, img, img])\n",
    "                img = cv2.cvtColor(img, cv2.COLOR_BGR2RGB)\n",
    "                img = img.astype(np.float32)/255.\n",
    "                train_X.append(img)\n",
    "                train_Y.append(is_pneumonia)\n",
    "            except:\n",
    "                print(filename + \" failed\")\n",
    "                pass\n",
    "    except:\n",
    "        pass\n",
    "train_X = np.array(train_X).reshape(-1, 224*224*3)\n",
    "train_Y = np.array(train_Y)"
   ]
  },
  {
   "cell_type": "code",
   "execution_count": 211,
   "metadata": {},
   "outputs": [
    {
     "name": "stdout",
     "output_type": "stream",
     "text": [
      ".DS_Store failed\n",
      ".DS_Store failed\n"
     ]
    }
   ],
   "source": [
    "val_X = []\n",
    "val_Y = []\n",
    "for elem in os.listdir(VAL_PATH):\n",
    "    is_pneumonia = 0.\n",
    "    if elem == \"PNEUMONIA\":\n",
    "        is_pneumonia = 1.\n",
    "    try:\n",
    "        for filename in os.listdir(VAL_PATH + \"/\" + elem):\n",
    "            try:\n",
    "                path = VAL_PATH + \"/\" + elem + \"/\"\n",
    "                img = cv2.imread(str(path+filename))\n",
    "                img = cv2.resize(img, (224,224))\n",
    "                img = img.astype(np.float32)/255.\n",
    "                val_X.append(img)\n",
    "                val_Y.append(is_pneumonia)\n",
    "            except:\n",
    "                print(filename + \" failed\")\n",
    "                pass\n",
    "    except:\n",
    "        pass\n",
    "val_X = np.array(val_X).reshape(-1, 224*224*3)\n",
    "val_Y = np.array(val_Y)"
   ]
  },
  {
   "cell_type": "code",
   "execution_count": 212,
   "metadata": {},
   "outputs": [],
   "source": [
    "test_X = []\n",
    "test_Y = []\n",
    "for elem in os.listdir(VAL_PATH):\n",
    "    is_pneumonia = 0.\n",
    "    if elem == \"PNEUMONIA\":\n",
    "        is_pneumonia = 1.\n",
    "    try:\n",
    "        for filename in os.listdir(TEST_PATH + \"/\" + elem):\n",
    "            try:\n",
    "                path = TEST_PATH + \"/\" + elem + \"/\"\n",
    "                img = cv2.imread(str(path+filename))\n",
    "                img = cv2.resize(img, (224,224))\n",
    "                img = img.astype(np.float32)/255.\n",
    "                test_X.append(img)\n",
    "                test_Y.append(is_pneumonia)\n",
    "            except:\n",
    "                print(filename + \" failed\")\n",
    "                pass\n",
    "    except:\n",
    "        pass\n",
    "test_X = np.array(test_X).reshape(-1, 224*224*3)\n",
    "test_Y = np.array(test_Y)"
   ]
  },
  {
   "cell_type": "code",
   "execution_count": 213,
   "metadata": {},
   "outputs": [
    {
     "name": "stdout",
     "output_type": "stream",
     "text": [
      "0.4 / 0.24944382578492943\n"
     ]
    }
   ],
   "source": [
    "model = RandomForestClassifier(random_state = 1, n_estimators=100)\n",
    "model.fit(train_X, train_Y)\n",
    "scores = cross_val_score(model, val_X, val_Y)\n",
    "print(str(scores.mean()) + \" / \" + str(scores.std()))"
   ]
  },
  {
   "cell_type": "code",
   "execution_count": 224,
   "metadata": {},
   "outputs": [
    {
     "name": "stdout",
     "output_type": "stream",
     "text": [
      "0.475 / 0.4993746088859544\n"
     ]
    }
   ],
   "source": [
    "scores_preds = cross_val_predict(model, test_X, test_Y)\n",
    "scores_probas = model.predict_proba(test_X)[:, 1]\n",
    "print(str(scores_preds.mean()) + \" / \" + str(scores_preds.std()))"
   ]
  },
  {
   "cell_type": "code",
   "execution_count": 225,
   "metadata": {},
   "outputs": [
    {
     "name": "stdout",
     "output_type": "stream",
     "text": [
      "0.91\n"
     ]
    }
   ],
   "source": [
    "#J'ai pas compris à quoi ça correspond, plus le chiffre est élevé, mieux c'est apparemment\n",
    "#Je pense que c'est la précision des prédictions\n",
    "print(roc_auc_score(test_Y, scores_preds))"
   ]
  },
  {
   "cell_type": "code",
   "execution_count": 226,
   "metadata": {},
   "outputs": [
    {
     "data": {
      "text/plain": [
       "Text(0.5, 1.0, 'ROC Curves')"
      ]
     },
     "execution_count": 226,
     "metadata": {},
     "output_type": "execute_result"
    },
    {
     "data": {
      "image/png": "[encoded data removed]",
      "text/plain": [
       "<Figure size 576x432 with 1 Axes>"
      ]
     },
     "metadata": {
      "needs_background": "light"
     },
     "output_type": "display_data"
    }
   ],
   "source": [
    "false_positive, true_positive, _ = roc_curve(test_Y, scores_probas)\n",
    "plt.figure(figsize = (8, 6))\n",
    "plt.rcParams['font.size'] = 16\n",
    "plt.plot(false_positive, true_positive, 'r', label = 'model')\n",
    "plt.legend()\n",
    "plt.xlabel('False Positive Rate')\n",
    "plt.ylabel('True Positive Rate')\n",
    "plt.title('ROC Curves')"
   ]
  },
  {
   "cell_type": "code",
   "execution_count": 227,
   "metadata": {},
   "outputs": [
    {
     "data": {
      "image/png": "[encoded data removed]",
      "text/plain": [
       "<Figure size 720x720 with 2 Axes>"
      ]
     },
     "metadata": {
      "needs_background": "light"
     },
     "output_type": "display_data"
    }
   ],
   "source": [
    "cm = confusion_matrix(test_Y, scores_preds)\n",
    "classes = ['Normal', 'Pneumonia']\n",
    "title = 'predictions HeatMap'\n",
    "plt.figure(figsize = (10, 10))\n",
    "\n",
    "plt.imshow(cm, cmap=plt.cm.Blues)\n",
    "plt.colorbar()\n",
    "plt.xticks(np.arange(len(classes)), classes)\n",
    "plt.yticks(np.arange(len(classes)), classes)\n",
    "for i in range(0, len(classes)):\n",
    "    for j in range(0, len(classes)):\n",
    "        text = plt.text(i, j, cm[i, j], ha=\"center\", va=\"center\")\n",
    "plt.ylabel('True label', size = 18)\n",
    "plt.xlabel('Predicted label', size = 18)\n",
    "plt.tight_layout()\n",
    "plt.show()"
   ]
  }
 ],
 "metadata": {
  "kernelspec": {
   "display_name": "Python 3",
   "language": "python",
   "name": "python3"
  },
  "language_info": {
   "codemirror_mode": {
    "name": "ipython",
    "version": 3
   },
   "file_extension": ".py",
   "mimetype": "text/x-python",
   "name": "python",
   "nbconvert_exporter": "python",
   "pygments_lexer": "ipython3",
   "version": "3.7.5"
  }
 },
 "nbformat": 4,
 "nbformat_minor": 2
}
