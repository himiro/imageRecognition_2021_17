{
 "cells": [
  {
   "cell_type": "code",
   "execution_count": 87,
   "metadata": {},
   "outputs": [
    {
     "name": "stdout",
     "output_type": "stream",
     "text": [
      "\u001b[31m  Could not find a version that satisfies the requirement PIL (from versions: )\u001b[0m\n",
      "\u001b[31mNo matching distribution found for PIL\u001b[0m\n",
      "total 36\n",
      "drwxr-xr-x 5 mathou mathou  4096 mars  16 14:37 .\n",
      "drwxr-xr-x 5 mathou mathou  4096 mars  17 10:04 ..\n",
      "-rw-r--r-- 1 mathou mathou 12292 mars  16 14:37 .DS_Store\n",
      "drwxr-xr-x 4 mathou mathou  4096 mars  16 14:37 test\n",
      "drwxr-xr-x 4 mathou mathou  4096 mars  16 14:37 train\n",
      "drwxr-xr-x 4 mathou mathou  4096 mars  16 14:37 val\n"
     ]
    }
   ],
   "source": [
    "!pip3 install -q --upgrade ipython keras tensorflow\n",
    "!pip3 install -q --upgrade ipykernel PIL\n",
    "!ls -la chest_Xray"
   ]
  },
  {
   "cell_type": "code",
   "execution_count": 88,
   "metadata": {},
   "outputs": [],
   "source": [
    "import os\n",
    "import numpy as np\n",
    "import pandas\n",
    "import seaborn\n",
    "from PIL import Image\n",
    "from sklearn.ensemble import RandomForestClassifier\n",
    "import cv2\n",
    "import matplotlib.pyplot as plt\n",
    "import pandas as pd\n",
    "from keras.utils import to_categorical"
   ]
  },
  {
   "cell_type": "code",
   "execution_count": 89,
   "metadata": {},
   "outputs": [],
   "source": [
    "TEST_PATH = \"./chest_Xray/test\"\n",
    "TRAIN_PATH = \"./chest_Xray/train\"\n",
    "VAL_PATH = \"./chest_Xray/val\""
   ]
  },
  {
   "cell_type": "code",
   "execution_count": 90,
   "metadata": {},
   "outputs": [
    {
     "name": "stdout",
     "output_type": "stream",
     "text": [
      ".DS_Store failed\n",
      ".DS_Store failed\n"
     ]
    }
   ],
   "source": [
    "train = []\n",
    "train_X = []\n",
    "train_Y = []\n",
    "for elem in os.listdir(TRAIN_PATH):\n",
    "    is_pneumonia = 0\n",
    "    if elem == \"PNEUMONIA\":\n",
    "        is_pneumonia = 1\n",
    "    try:\n",
    "        for filename in os.listdir(TRAIN_PATH + \"/\" + elem):\n",
    "            try:\n",
    "                path = TRAIN_PATH + \"/\" + elem + \"/\"\n",
    "                img = cv2.imread(str(path+filename))\n",
    "                img = cv2.resize(img, (224,224))\n",
    "                if img.shape[2] ==1:\n",
    "                    img = np.dstack([img, img, img])\n",
    "                img = cv2.cvtColor(img, cv2.COLOR_BGR2RGB)\n",
    "                img = img.astype(np.float32)/255.\n",
    "                train_X.append(img)\n",
    "                train_Y.append(to_categorical(is_pneumonia, num_classes=2))\n",
    "            except:\n",
    "                print(filename + \" failed\")\n",
    "                pass\n",
    "    except:\n",
    "        pass\n",
    "train_X = np.array(train_X).reshape(-1, 224*224*3)\n",
    "train_Y = np.array(train_Y)"
   ]
  },
  {
   "cell_type": "code",
   "execution_count": 91,
   "metadata": {},
   "outputs": [
    {
     "name": "stdout",
     "output_type": "stream",
     "text": [
      ".DS_Store failed\n",
      ".DS_Store failed\n"
     ]
    }
   ],
   "source": [
    "val = []\n",
    "label = []\n",
    "val_X = []\n",
    "val_Y = []\n",
    "for elem in os.listdir(VAL_PATH):\n",
    "    is_pneumonia = 0\n",
    "    if elem == \"PNEUMONIA\":\n",
    "        is_pneumonia = 1\n",
    "    try:\n",
    "        for filename in os.listdir(VAL_PATH + \"/\" + elem):\n",
    "            try:\n",
    "                path = VAL_PATH + \"/\" + elem + \"/\"\n",
    "                img = cv2.imread(str(path+filename))\n",
    "                img = cv2.resize(img, (224,224))\n",
    "                img = img.astype(np.float32)/255.\n",
    "                val_X.append(img)\n",
    "                val_Y.append(is_pneumonia)\n",
    "            except:\n",
    "                print(filename + \" failed\")\n",
    "                pass\n",
    "    except:\n",
    "        pass\n",
    "val_X = np.array(val_X).reshape(-1, 224*224*3)\n",
    "val_Y = np.array(val_Y)"
   ]
  },
  {
   "cell_type": "code",
   "execution_count": 93,
   "metadata": {},
   "outputs": [
    {
     "name": "stdout",
     "output_type": "stream",
     "text": [
      "[[0. 1.]\n",
      " [1. 0.]\n",
      " [1. 0.]\n",
      " [0. 1.]\n",
      " [0. 1.]\n",
      " [0. 1.]\n",
      " [1. 0.]\n",
      " [0. 1.]\n",
      " [0. 1.]\n",
      " [0. 1.]\n",
      " [0. 1.]\n",
      " [0. 1.]\n",
      " [0. 1.]\n",
      " [0. 1.]\n",
      " [0. 1.]\n",
      " [0. 1.]]\n"
     ]
    }
   ],
   "source": [
    "model = RandomForestClassifier()\n",
    "model.fit(train_X, train_Y)\n",
    "preds = model.predict(val_X)\n",
    "print(preds)"
   ]
  }
 ],
 "metadata": {
  "kernelspec": {
   "display_name": "Python 3",
   "language": "python",
   "name": "python3"
  },
  "language_info": {
   "codemirror_mode": {
    "name": "ipython",
    "version": 3
   },
   "file_extension": ".py",
   "mimetype": "text/x-python",
   "name": "python",
   "nbconvert_exporter": "python",
   "pygments_lexer": "ipython3",
   "version": "3.7.5"
  }
 },
 "nbformat": 4,
 "nbformat_minor": 2
}
