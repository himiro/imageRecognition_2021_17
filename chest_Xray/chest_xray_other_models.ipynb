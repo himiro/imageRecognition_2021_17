{
 "cells": [
  {
   "cell_type": "code",
   "execution_count": 10,
   "metadata": {},
   "outputs": [
    {
     "name": "stdout",
     "output_type": "stream",
     "text": [
      "total 36\r\n",
      "drwxr-xr-x 5 mathou mathou  4096 mars  16 14:37 .\r\n",
      "drwxr-xr-x 6 mathou mathou  4096 mai    4 10:03 ..\r\n",
      "-rw-r--r-- 1 mathou mathou 12292 mars  16 14:37 .DS_Store\r\n",
      "drwxr-xr-x 4 mathou mathou  4096 mars  16 14:37 test\r\n",
      "drwxr-xr-x 4 mathou mathou  4096 mars  16 14:37 train\r\n",
      "drwxr-xr-x 4 mathou mathou  4096 mars  16 14:37 val\r\n"
     ]
    }
   ],
   "source": [
    "!pip3 install -q --upgrade ipython keras scikit-learn\n",
    "!pip3 install -q --upgrade ipykernel Pillow seaborn pandas matplotlib opencv-python\n",
    "!ls -la chest_Xray"
   ]
  },
  {
   "cell_type": "code",
   "execution_count": 11,
   "metadata": {},
   "outputs": [],
   "source": [
    "import os\n",
    "import numpy as np\n",
    "import pandas\n",
    "import seaborn as sns\n",
    "import matplotlib.pyplot as plt\n",
    "import matplotlib.cbook as cbook\n",
    "from PIL import Image\n",
    "from sklearn.ensemble import RandomForestClassifier, AdaBoostClassifier, BaggingClassifier\n",
    "import cv2\n",
    "import pandas as pd\n",
    "from sklearn.model_selection import cross_val_score, cross_val_predict\n",
    "from sklearn.metrics import roc_auc_score, roc_curve, confusion_matrix"
   ]
  },
  {
   "cell_type": "code",
   "execution_count": 12,
   "metadata": {},
   "outputs": [],
   "source": [
    "TEST_PATH = \"./chest_Xray/test\"\n",
    "TRAIN_PATH = \"./chest_Xray/train\"\n",
    "VAL_PATH = \"./chest_Xray/val\""
   ]
  },
  {
   "cell_type": "markdown",
   "metadata": {},
   "source": [
    "# Creation of Train, Val and Test datasets"
   ]
  },
  {
   "cell_type": "code",
   "execution_count": 13,
   "metadata": {},
   "outputs": [
    {
     "name": "stdout",
     "output_type": "stream",
     "text": [
      ".DS_Store failed\n",
      ".DS_Store failed\n"
     ]
    }
   ],
   "source": [
    "train_X = []\n",
    "train_Y = []\n",
    "for elem in os.listdir(TRAIN_PATH):\n",
    "    is_pneumonia = 0.\n",
    "    if elem == \"PNEUMONIA\":\n",
    "        is_pneumonia = 1.\n",
    "    try:\n",
    "        for filename in os.listdir(TRAIN_PATH + \"/\" + elem):\n",
    "            try:\n",
    "                path = TRAIN_PATH + \"/\" + elem + \"/\"\n",
    "                img = cv2.imread(str(path+filename))\n",
    "                img = cv2.resize(img, (224,224))\n",
    "                img = img.astype(np.float32)/255.\n",
    "                train_X.append(img)\n",
    "                train_Y.append(is_pneumonia)\n",
    "            except:\n",
    "                print(filename + \" failed\")\n",
    "                pass\n",
    "    except:\n",
    "        pass\n",
    "train_X = np.array(train_X).reshape(-1, 224*224*3)\n",
    "train_Y = np.array(train_Y)"
   ]
  },
  {
   "cell_type": "code",
   "execution_count": 14,
   "metadata": {},
   "outputs": [
    {
     "name": "stdout",
     "output_type": "stream",
     "text": [
      ".DS_Store failed\n",
      ".DS_Store failed\n"
     ]
    }
   ],
   "source": [
    "val_X = []\n",
    "val_Y = []\n",
    "for elem in os.listdir(VAL_PATH):\n",
    "    is_pneumonia = 0.\n",
    "    if elem == \"PNEUMONIA\":\n",
    "        is_pneumonia = 1.\n",
    "    try:\n",
    "        for filename in os.listdir(VAL_PATH + \"/\" + elem):\n",
    "            try:\n",
    "                path = VAL_PATH + \"/\" + elem + \"/\"\n",
    "                img = cv2.imread(str(path+filename))\n",
    "                img = cv2.resize(img, (224,224))\n",
    "                img = img.astype(np.float32)/255.\n",
    "                val_X.append(img)\n",
    "                val_Y.append(is_pneumonia)\n",
    "            except:\n",
    "                print(filename + \" failed\")\n",
    "                pass\n",
    "    except:\n",
    "        pass\n",
    "val_X = np.array(val_X).reshape(-1, 224*224*3)\n",
    "val_Y = np.array(val_Y)"
   ]
  },
  {
   "cell_type": "code",
   "execution_count": 15,
   "metadata": {},
   "outputs": [],
   "source": [
    "test_X = []\n",
    "test_Y = []\n",
    "for elem in os.listdir(TEST_PATH):\n",
    "    is_pneumonia = 0.\n",
    "    if elem == \"PNEUMONIA\":\n",
    "        is_pneumonia = 1.\n",
    "    try:\n",
    "        for filename in os.listdir(TEST_PATH + \"/\" + elem):\n",
    "            try:\n",
    "                path = TEST_PATH + \"/\" + elem + \"/\"\n",
    "                img = cv2.imread(str(path+filename))\n",
    "                img = cv2.resize(img, (224,224))\n",
    "                img = img.astype(np.float32)/255.\n",
    "                test_X.append(img)\n",
    "                test_Y.append(is_pneumonia)\n",
    "            except:\n",
    "                print(filename + \" failed\")\n",
    "                pass\n",
    "    except:\n",
    "        pass\n",
    "test_X = np.array(test_X).reshape(-1, 224*224*3)\n",
    "test_Y = np.array(test_Y)"
   ]
  },
  {
   "cell_type": "markdown",
   "metadata": {},
   "source": [
    "# Data exploration"
   ]
  },
  {
   "cell_type": "code",
   "execution_count": 16,
   "metadata": {},
   "outputs": [
    {
     "data": {
      "text/plain": [
       "<matplotlib.axes._subplots.AxesSubplot at 0x7f94e3c8e250>"
      ]
     },
     "execution_count": 16,
     "metadata": {},
     "output_type": "execute_result"
    },
    {
     "data": {
      "image/png": "[encoded data removed]",
      "text/plain": [
       "<Figure size 720x432 with 1 Axes>"
      ]
     },
     "metadata": {
      "needs_background": "light"
     },
     "output_type": "display_data"
    },
    {
     "data": {
      "image/png": "[encoded data removed]",
      "text/plain": [
       "<Figure size 720x432 with 1 Axes>"
      ]
     },
     "metadata": {
      "needs_background": "light"
     },
     "output_type": "display_data"
    },
    {
     "data": {
      "image/png": "[encoded data removed]",
      "text/plain": [
       "<Figure size 720x432 with 1 Axes>"
      ]
     },
     "metadata": {
      "needs_background": "light"
     },
     "output_type": "display_data"
    }
   ],
   "source": [
    "# PLOT POUMONS\n",
    "labels = [\"Normal\", \"Pneumonia\"]\n",
    "\n",
    "plt.figure(figsize=(10,6))\n",
    "plt.title(\"Poumons malades / Poumons sains (train)\")\n",
    "sns.countplot(train_Y.astype(int), palette=sns.color_palette(\"pastel\"))\n",
    "\n",
    "plt.figure(figsize=(10,6))\n",
    "plt.title(\"Poumons malades / Poumons sains (val)\")\n",
    "sns.countplot(val_Y.astype(int), palette=sns.color_palette(\"pastel\"))\n",
    "\n",
    "plt.figure(figsize=(10,6))\n",
    "plt.title(\"Poumons malades / Poumons sains (test)\")\n",
    "sns.countplot(test_Y.astype(int), palette=sns.color_palette(\"pastel\"))"
   ]
  },
  {
   "cell_type": "markdown",
   "metadata": {},
   "source": [
    "# Creation and training step of the model"
   ]
  },
  {
   "cell_type": "code",
   "execution_count": 29,
   "metadata": {},
   "outputs": [
    {
     "name": "stdout",
     "output_type": "stream",
     "text": [
      "0.45 / 0.348010216963685\n"
     ]
    }
   ],
   "source": [
    "model = AdaBoostClassifier(random_state = 20, n_estimators = 150)\n",
    "model.fit(train_X, train_Y)\n",
    "scores = cross_val_score(model, val_X, val_Y)\n",
    "print(str(scores.mean()) + \" / \" + str(scores.std()))"
   ]
  },
  {
   "cell_type": "markdown",
   "metadata": {},
   "source": [
    "# Validation step"
   ]
  },
  {
   "cell_type": "code",
   "execution_count": 30,
   "metadata": {},
   "outputs": [
    {
     "name": "stdout",
     "output_type": "stream",
     "text": [
      "0.49 / 0.4998999899979995\n"
     ]
    }
   ],
   "source": [
    "scores_preds = cross_val_predict(model, test_X, test_Y)\n",
    "scores_probas = model.predict_proba(test_X)[:, 1]\n",
    "print(str(scores_preds.mean()) + \" / \" + str(scores_preds.std()))"
   ]
  },
  {
   "cell_type": "markdown",
   "metadata": {},
   "source": [
    "# Test step : Final model accuracy"
   ]
  },
  {
   "cell_type": "code",
   "execution_count": 31,
   "metadata": {},
   "outputs": [
    {
     "name": "stdout",
     "output_type": "stream",
     "text": [
      "0.92\n"
     ]
    }
   ],
   "source": [
    "accuracy = roc_auc_score(test_Y, scores_preds)\n",
    "print(accuracy)"
   ]
  },
  {
   "cell_type": "markdown",
   "metadata": {},
   "source": [
    "# Predictions and model metrics plots"
   ]
  },
  {
   "cell_type": "code",
   "execution_count": 32,
   "metadata": {},
   "outputs": [
    {
     "data": {
      "text/plain": [
       "Text(0.5, 1.0, 'ROC Curves')"
      ]
     },
     "execution_count": 32,
     "metadata": {},
     "output_type": "execute_result"
    },
    {
     "data": {
      "image/png": "[encoded data removed]",
      "text/plain": [
       "<Figure size 576x432 with 1 Axes>"
      ]
     },
     "metadata": {
      "needs_background": "light"
     },
     "output_type": "display_data"
    }
   ],
   "source": [
    "false_positive, true_positive, _ = roc_curve(test_Y, scores_probas)\n",
    "plt.figure(figsize = (8, 6))\n",
    "plt.rcParams['font.size'] = 16\n",
    "plt.plot(false_positive, true_positive, 'r', label = 'model')\n",
    "plt.legend()\n",
    "plt.xlabel('False Positive Rate')\n",
    "plt.ylabel('True Positive Rate')\n",
    "plt.title('ROC Curves')"
   ]
  },
  {
   "cell_type": "code",
   "execution_count": 33,
   "metadata": {},
   "outputs": [
    {
     "data": {
      "image/png": "[encoded data removed]",
      "text/plain": [
       "<Figure size 720x720 with 2 Axes>"
      ]
     },
     "metadata": {
      "needs_background": "light"
     },
     "output_type": "display_data"
    }
   ],
   "source": [
    "cm = confusion_matrix(test_Y, scores_preds)\n",
    "classes = ['Normal', 'Pneumonia']\n",
    "title = 'predictions HeatMap'\n",
    "plt.figure(figsize = (10, 10))\n",
    "\n",
    "plt.imshow(cm, cmap=plt.cm.Blues)\n",
    "plt.colorbar()\n",
    "plt.xticks(np.arange(len(classes)), classes)\n",
    "plt.yticks(np.arange(len(classes)), classes)\n",
    "for i in range(0, len(classes)):\n",
    "    for j in range(0, len(classes)):\n",
    "        text = plt.text(i, j, cm[i, j], ha=\"center\", va=\"center\")\n",
    "plt.ylabel('True label', size = 18)\n",
    "plt.xlabel('Predicted label', size = 18)\n",
    "plt.tight_layout()\n",
    "plt.show()"
   ]
  },
  {
   "cell_type": "markdown",
   "metadata": {},
   "source": [
    "## Predictions distribution"
   ]
  },
  {
   "cell_type": "code",
   "execution_count": 34,
   "metadata": {},
   "outputs": [
    {
     "data": {
      "text/plain": [
       "{'whiskers': [<matplotlib.lines.Line2D at 0x7f94e284c210>,\n",
       "  <matplotlib.lines.Line2D at 0x7f94e284c750>,\n",
       "  <matplotlib.lines.Line2D at 0x7f94e285b550>,\n",
       "  <matplotlib.lines.Line2D at 0x7f94e285ba90>],\n",
       " 'caps': [<matplotlib.lines.Line2D at 0x7f94e284cc90>,\n",
       "  <matplotlib.lines.Line2D at 0x7f94e2855210>,\n",
       "  <matplotlib.lines.Line2D at 0x7f94e285bfd0>,\n",
       "  <matplotlib.lines.Line2D at 0x7f94e2863510>],\n",
       " 'boxes': [<matplotlib.patches.PathPatch at 0x7f94e28c3750>,\n",
       "  <matplotlib.patches.PathPatch at 0x7f94e285b050>],\n",
       " 'medians': [<matplotlib.lines.Line2D at 0x7f94e2855750>,\n",
       "  <matplotlib.lines.Line2D at 0x7f94e2863a50>],\n",
       " 'fliers': [<matplotlib.lines.Line2D at 0x7f94e2855cd0>,\n",
       "  <matplotlib.lines.Line2D at 0x7f94e2863f90>],\n",
       " 'means': []}"
      ]
     },
     "execution_count": 34,
     "metadata": {},
     "output_type": "execute_result"
    },
    {
     "data": {
      "image/png": "[encoded data removed]",
      "text/plain": [
       "<Figure size 432x288 with 1 Axes>"
      ]
     },
     "metadata": {
      "needs_background": "light"
     },
     "output_type": "display_data"
    }
   ],
   "source": [
    "pneumonia = scores_probas[scores_probas.round()==True]\n",
    "normal = scores_probas[scores_probas.round()==False]\n",
    "\n",
    "green_diamond = dict(markerfacecolor='g', marker='D')\n",
    "\n",
    "plt.boxplot([pneumonia, normal], labels=['Pneumonia', 'Normal'],\n",
    "            flierprops=green_diamond, vert=False, patch_artist=True)"
   ]
  }
 ],
 "metadata": {
  "kernelspec": {
   "display_name": "Python 3",
   "language": "python",
   "name": "python3"
  },
  "language_info": {
   "codemirror_mode": {
    "name": "ipython",
    "version": 3
   },
   "file_extension": ".py",
   "mimetype": "text/x-python",
   "name": "python",
   "nbconvert_exporter": "python",
   "pygments_lexer": "ipython3",
   "version": "3.7.5"
  }
 },
 "nbformat": 4,
 "nbformat_minor": 2
}
